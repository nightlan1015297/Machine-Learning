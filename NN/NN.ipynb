{
 "cells": [
  {
   "cell_type": "code",
   "execution_count": 1,
   "metadata": {},
   "outputs": [
    {
     "name": "stdout",
     "output_type": "stream",
     "text": [
      "env: KERAS_BACKEND=tensorflow\n"
     ]
    }
   ],
   "source": [
    "%env KERAS_BACKEND = tensorflow"
   ]
  },
  {
   "cell_type": "code",
   "execution_count": 2,
   "metadata": {},
   "outputs": [],
   "source": [
    "%matplotlib inline\n",
    "\n",
    "import numpy as np\n",
    "import matplotlib.pyplot as plt"
   ]
  },
  {
   "cell_type": "code",
   "execution_count": 3,
   "metadata": {},
   "outputs": [
    {
     "name": "stderr",
     "output_type": "stream",
     "text": [
      "Using TensorFlow backend.\n"
     ]
    }
   ],
   "source": [
    "from keras.datasets import mnist"
   ]
  },
  {
   "cell_type": "code",
   "execution_count": 4,
   "metadata": {},
   "outputs": [],
   "source": [
    "(x_train , y_train) , (x_test , y_test) = mnist.load_data()"
   ]
  },
  {
   "cell_type": "code",
   "execution_count": 5,
   "metadata": {},
   "outputs": [
    {
     "data": {
      "text/plain": [
       "numpy.ndarray"
      ]
     },
     "execution_count": 5,
     "metadata": {},
     "output_type": "execute_result"
    }
   ],
   "source": [
    "type(x_train)"
   ]
  },
  {
   "cell_type": "code",
   "execution_count": 6,
   "metadata": {},
   "outputs": [
    {
     "data": {
      "text/plain": [
       "60000"
      ]
     },
     "execution_count": 6,
     "metadata": {},
     "output_type": "execute_result"
    }
   ],
   "source": [
    "len(x_train)"
   ]
  },
  {
   "cell_type": "code",
   "execution_count": 7,
   "metadata": {},
   "outputs": [
    {
     "data": {
      "text/plain": [
       "array([[  0,   0,   0,   0,   0,   0,   0,   0,   0,   0,   0,   0,   0,\n",
       "          0,   0,   0,   0,   0,   0,   0,   0,   0,   0,   0,   0,   0,\n",
       "          0,   0],\n",
       "       [  0,   0,   0,   0,   0,   0,   0,   0,   0,   0,   0,   0,   0,\n",
       "          0,   0,   0,   0,   0,   0,   0,   0,   0,   0,   0,   0,   0,\n",
       "          0,   0],\n",
       "       [  0,   0,   0,   0,   0,   0,   0,   0,   0,   0,   0,   0,   0,\n",
       "          0,   0,   0,   0,   0,   0,   0,   0,   0,   0,   0,   0,   0,\n",
       "          0,   0],\n",
       "       [  0,   0,   0,   0,   0,   0,   0,   0,   0,   0,   0,   0,   0,\n",
       "          0,   0,   0,   0,   0,   0,   0,   0,   0,   0,   0,   0,   0,\n",
       "          0,   0],\n",
       "       [  0,   0,   0,   0,   0,   0,   0,   0,   0,   0,   0,  29, 197,\n",
       "        255,  84,   0,   0,   0,   0,   0,   0,   0,   0,   0,   0,   0,\n",
       "          0,   0],\n",
       "       [  0,   0,   0,   0,   0,   0,   0,   0,   0,   0,   0,  85, 251,\n",
       "        253,  83,   0,   0,   0,   0,   0,   0,   0,   0,   0,   0,   0,\n",
       "          0,   0],\n",
       "       [  0,   0,   0,   0,   0,   0,   0,   0,   0,   0,   0,  86, 253,\n",
       "        254, 253,   0,   0,   0,   0,   0,   0,   0,   0,   0,   0,   0,\n",
       "          0,   0],\n",
       "       [  0,   0,   0,   0,   0,   0,   0,   0,   0,   0,   0,  85, 251,\n",
       "        253, 251,   0,   0,   0,   0,   0,   0,   0,   0,   0,   0,   0,\n",
       "          0,   0],\n",
       "       [  0,   0,   0,   0,   0,   0,   0,   0,   0,   0,   0,  86, 253,\n",
       "        254, 253, 169,   0,   0,   0,   0,   0,   0,   0,   0,   0,   0,\n",
       "          0,   0],\n",
       "       [  0,   0,   0,   0,   0,   0,   0,   0,   0,   0,   0,  85, 251,\n",
       "        253, 251, 168,   0,   0,   0,   0,   0,   0,   0,   0,   0,   0,\n",
       "          0,   0],\n",
       "       [  0,   0,   0,   0,   0,   0,   0,   0,   0,   0,   0,  86, 253,\n",
       "        254, 253, 169,   0,   0,   0,   0,   0,   0,   0,   0,   0,   0,\n",
       "          0,   0],\n",
       "       [  0,   0,   0,   0,   0,   0,   0,   0,   0,   0,   0,  28, 196,\n",
       "        253, 251, 168,   0,   0,   0,   0,   0,   0,   0,   0,   0,   0,\n",
       "          0,   0],\n",
       "       [  0,   0,   0,   0,   0,   0,   0,   0,   0,   0,   0,   0, 169,\n",
       "        254, 253, 169,   0,   0,   0,   0,   0,   0,   0,   0,   0,   0,\n",
       "          0,   0],\n",
       "       [  0,   0,   0,   0,   0,   0,   0,   0,   0,   0,   0,   0, 168,\n",
       "        253, 251, 168,   0,   0,   0,   0,   0,   0,   0,   0,   0,   0,\n",
       "          0,   0],\n",
       "       [  0,   0,   0,   0,   0,   0,   0,   0,   0,   0,   0,   0, 169,\n",
       "        254, 253, 169,   0,   0,   0,   0,   0,   0,   0,   0,   0,   0,\n",
       "          0,   0],\n",
       "       [  0,   0,   0,   0,   0,   0,   0,   0,   0,   0,   0,   0, 168,\n",
       "        253, 251, 168,   0,   0,   0,   0,   0,   0,   0,   0,   0,   0,\n",
       "          0,   0],\n",
       "       [  0,   0,   0,   0,   0,   0,   0,   0,   0,   0,   0,   0,   0,\n",
       "        254, 253, 254, 139,   0,   0,   0,   0,   0,   0,   0,   0,   0,\n",
       "          0,   0],\n",
       "       [  0,   0,   0,   0,   0,   0,   0,   0,   0,   0,   0,   0,   0,\n",
       "        253, 251, 253, 251,   0,   0,   0,   0,   0,   0,   0,   0,   0,\n",
       "          0,   0],\n",
       "       [  0,   0,   0,   0,   0,   0,   0,   0,   0,   0,   0,   0,   0,\n",
       "        254, 253, 254, 253,  57,   0,   0,   0,   0,   0,   0,   0,   0,\n",
       "          0,   0],\n",
       "       [  0,   0,   0,   0,   0,   0,   0,   0,   0,   0,   0,   0,   0,\n",
       "        253, 251, 253, 251, 168,   0,   0,   0,   0,   0,   0,   0,   0,\n",
       "          0,   0],\n",
       "       [  0,   0,   0,   0,   0,   0,   0,   0,   0,   0,   0,   0,   0,\n",
       "        198, 253, 254, 253, 114,   0,   0,   0,   0,   0,   0,   0,   0,\n",
       "          0,   0],\n",
       "       [  0,   0,   0,   0,   0,   0,   0,   0,   0,   0,   0,   0,   0,\n",
       "         85, 251, 253, 251,   0,   0,   0,   0,   0,   0,   0,   0,   0,\n",
       "          0,   0],\n",
       "       [  0,   0,   0,   0,   0,   0,   0,   0,   0,   0,   0,   0,   0,\n",
       "         85, 253, 254, 253,   0,   0,   0,   0,   0,   0,   0,   0,   0,\n",
       "          0,   0],\n",
       "       [  0,   0,   0,   0,   0,   0,   0,   0,   0,   0,   0,   0,   0,\n",
       "         28,  83, 196,  83,   0,   0,   0,   0,   0,   0,   0,   0,   0,\n",
       "          0,   0],\n",
       "       [  0,   0,   0,   0,   0,   0,   0,   0,   0,   0,   0,   0,   0,\n",
       "          0,   0,   0,   0,   0,   0,   0,   0,   0,   0,   0,   0,   0,\n",
       "          0,   0],\n",
       "       [  0,   0,   0,   0,   0,   0,   0,   0,   0,   0,   0,   0,   0,\n",
       "          0,   0,   0,   0,   0,   0,   0,   0,   0,   0,   0,   0,   0,\n",
       "          0,   0],\n",
       "       [  0,   0,   0,   0,   0,   0,   0,   0,   0,   0,   0,   0,   0,\n",
       "          0,   0,   0,   0,   0,   0,   0,   0,   0,   0,   0,   0,   0,\n",
       "          0,   0],\n",
       "       [  0,   0,   0,   0,   0,   0,   0,   0,   0,   0,   0,   0,   0,\n",
       "          0,   0,   0,   0,   0,   0,   0,   0,   0,   0,   0,   0,   0,\n",
       "          0,   0]], dtype=uint8)"
      ]
     },
     "execution_count": 7,
     "metadata": {},
     "output_type": "execute_result"
    }
   ],
   "source": [
    "x_train[200]"
   ]
  },
  {
   "cell_type": "code",
   "execution_count": 8,
   "metadata": {},
   "outputs": [
    {
     "data": {
      "text/plain": [
       "(28, 28)"
      ]
     },
     "execution_count": 8,
     "metadata": {},
     "output_type": "execute_result"
    }
   ],
   "source": [
    "x_train[200].shape"
   ]
  },
  {
   "cell_type": "code",
   "execution_count": 9,
   "metadata": {},
   "outputs": [
    {
     "data": {
      "text/plain": [
       "<matplotlib.image.AxesImage at 0x1f743879cc0>"
      ]
     },
     "execution_count": 9,
     "metadata": {},
     "output_type": "execute_result"
    },
    {
     "data": {
      "image/png": "[encoded data removed]",
      "text/plain": [
       "<Figure size 432x288 with 1 Axes>"
      ]
     },
     "metadata": {
      "needs_background": "light"
     },
     "output_type": "display_data"
    }
   ],
   "source": [
    "plt.imshow(x_train[200] , cmap = \"Greys\")"
   ]
  },
  {
   "cell_type": "code",
   "execution_count": 10,
   "metadata": {},
   "outputs": [
    {
     "data": {
      "text/plain": [
       "1"
      ]
     },
     "execution_count": 10,
     "metadata": {},
     "output_type": "execute_result"
    }
   ],
   "source": [
    "y_train[200]"
   ]
  },
  {
   "cell_type": "code",
   "execution_count": 11,
   "metadata": {},
   "outputs": [
    {
     "data": {
      "text/plain": [
       "(60000, 28, 28)"
      ]
     },
     "execution_count": 11,
     "metadata": {},
     "output_type": "execute_result"
    }
   ],
   "source": [
    "x_train.shape"
   ]
  },
  {
   "cell_type": "code",
   "execution_count": 12,
   "metadata": {},
   "outputs": [],
   "source": [
    "x_train = x_train.reshape(60000, 784)\n",
    "x_test = x_test.reshape(10000, 784)"
   ]
  },
  {
   "cell_type": "code",
   "execution_count": 13,
   "metadata": {},
   "outputs": [
    {
     "data": {
      "text/plain": [
       "(60000, 784)"
      ]
     },
     "execution_count": 13,
     "metadata": {},
     "output_type": "execute_result"
    }
   ],
   "source": [
    "x_train.shape"
   ]
  },
  {
   "cell_type": "code",
   "execution_count": 14,
   "metadata": {},
   "outputs": [],
   "source": [
    "from keras.utils import np_utils"
   ]
  },
  {
   "cell_type": "code",
   "execution_count": 15,
   "metadata": {},
   "outputs": [],
   "source": [
    "y_train = np_utils.to_categorical(y_train , 10)\n",
    "y_test = np_utils.to_categorical(y_test , 10)"
   ]
  },
  {
   "cell_type": "code",
   "execution_count": 16,
   "metadata": {},
   "outputs": [
    {
     "data": {
      "text/plain": [
       "array([0., 1., 0., 0., 0., 0., 0., 0., 0., 0.], dtype=float32)"
      ]
     },
     "execution_count": 16,
     "metadata": {},
     "output_type": "execute_result"
    }
   ],
   "source": [
    "y_train[200]"
   ]
  },
  {
   "cell_type": "code",
   "execution_count": 17,
   "metadata": {},
   "outputs": [],
   "source": [
    "from keras.models import Sequential\n",
    "from keras.layers import Dense , Activation\n",
    "from keras.optimizers import sgd"
   ]
  },
  {
   "cell_type": "code",
   "execution_count": 41,
   "metadata": {},
   "outputs": [],
   "source": [
    "sess = tf.InteractiveSession()\n",
    "model = Sequential()"
   ]
  },
  {
   "cell_type": "code",
   "execution_count": 42,
   "metadata": {},
   "outputs": [],
   "source": [
    "model.add(Dense(500 , input_dim =784))\n",
    "model.add(Activation(\"sigmoid\"))"
   ]
  },
  {
   "cell_type": "code",
   "execution_count": 43,
   "metadata": {},
   "outputs": [],
   "source": [
    "model.add(Dense(500))\n",
    "model.add(Activation(\"sigmoid\"))"
   ]
  },
  {
   "cell_type": "code",
   "execution_count": 44,
   "metadata": {},
   "outputs": [],
   "source": [
    "model.add(Dense(10))\n",
    "model.add(Activation(\"softmax\"))"
   ]
  },
  {
   "cell_type": "code",
   "execution_count": 45,
   "metadata": {},
   "outputs": [],
   "source": [
    "model.compile(loss = \"mse\" , optimizer= sgd(lr = 0.1) , metrics=[\"accuracy\"])"
   ]
  },
  {
   "cell_type": "code",
   "execution_count": 46,
   "metadata": {
    "scrolled": true
   },
   "outputs": [
    {
     "name": "stdout",
     "output_type": "stream",
     "text": [
      "_________________________________________________________________\n",
      "Layer (type)                 Output Shape              Param #   \n",
      "=================================================================\n",
      "dense_4 (Dense)              (None, 500)               392500    \n",
      "_________________________________________________________________\n",
      "activation_4 (Activation)    (None, 500)               0         \n",
      "_________________________________________________________________\n",
      "dense_5 (Dense)              (None, 500)               250500    \n",
      "_________________________________________________________________\n",
      "activation_5 (Activation)    (None, 500)               0         \n",
      "_________________________________________________________________\n",
      "dense_6 (Dense)              (None, 10)                5010      \n",
      "_________________________________________________________________\n",
      "activation_6 (Activation)    (None, 10)                0         \n",
      "=================================================================\n",
      "Total params: 648,010\n",
      "Trainable params: 648,010\n",
      "Non-trainable params: 0\n",
      "_________________________________________________________________\n"
     ]
    }
   ],
   "source": [
    "model.summary()"
   ]
  },
  {
   "cell_type": "code",
   "execution_count": 47,
   "metadata": {},
   "outputs": [
    {
     "name": "stdout",
     "output_type": "stream",
     "text": [
      "Epoch 1/1\n",
      "60000/60000 [==============================] - 8s 129us/step - loss: 0.0832 - acc: 0.3709\n"
     ]
    },
    {
     "data": {
      "text/plain": [
       "<keras.callbacks.History at 0x1f7438f0048>"
      ]
     },
     "execution_count": 47,
     "metadata": {},
     "output_type": "execute_result"
    }
   ],
   "source": [
    "model.fit(x_train , y_train , batch_size = 100 , epochs = 1)"
   ]
  },
  {
   "cell_type": "code",
   "execution_count": 102,
   "metadata": {},
   "outputs": [
    {
     "data": {
      "text/plain": [
       "[<keras.layers.core.Dense at 0x1f74fbd2780>,\n",
       " <keras.layers.core.Activation at 0x1f74e58da58>,\n",
       " <keras.layers.core.Dense at 0x1f74fbd2080>,\n",
       " <keras.layers.core.Activation at 0x1f74fbd2630>,\n",
       " <keras.layers.core.Dense at 0x1f7399a3630>,\n",
       " <keras.layers.core.Activation at 0x1f74fd02c18>]"
      ]
     },
     "execution_count": 102,
     "metadata": {},
     "output_type": "execute_result"
    }
   ],
   "source": [
    "model.layers"
   ]
  },
  {
   "cell_type": "code",
   "execution_count": 101,
   "metadata": {},
   "outputs": [
    {
     "name": "stdout",
     "output_type": "stream",
     "text": [
      "[[-5.14611959e-01  6.46910250e-01  3.73627573e-01  2.31025532e-01\n",
      "   1.13582504e+00 -5.61720967e-01 -4.47873116e-01 -4.53756452e-01\n",
      "  -6.07990026e-01  1.75135016e+00 -3.04715544e-01 -1.57356393e+00\n",
      "  -7.47175097e-01 -7.36091614e-01 -1.32940501e-01  1.21186244e+00\n",
      "   1.87614903e-01  3.69943768e-01 -5.46749055e-01  4.15351957e-01\n",
      "  -2.30729971e-02  6.01569951e-01 -6.57434344e-01 -3.11475009e-01\n",
      "  -1.86278355e+00 -7.96345294e-01  5.24683893e-01  4.17927861e-01\n",
      "   4.27564234e-01 -5.34929454e-01 -4.88355398e-01  1.06411546e-01\n",
      "   7.01330602e-02  6.07635975e-01 -6.35210946e-02  1.07061660e+00\n",
      "  -7.67504632e-01  2.77773112e-01  3.89136493e-01 -9.29425001e-01\n",
      "   1.12150544e-02  9.74521264e-02  5.09009242e-01 -5.60579970e-02\n",
      "   5.78929126e-01 -8.41666222e-01  4.31438118e-01  1.56553388e-01\n",
      "  -2.26910010e-01  2.12653255e+00 -3.74245703e-01 -1.67528224e+00\n",
      "   5.34768522e-01 -3.81063879e-01  6.33471906e-01  9.48038459e-01\n",
      "   1.11298792e-01  1.06329417e+00  4.19583946e-01 -1.89655591e-02\n",
      "  -2.78973788e-01  7.74784982e-02 -6.98954284e-01  6.30758479e-02\n",
      "  -1.47915661e-01 -3.56284320e-01 -2.45226130e-01  7.92429388e-01\n",
      "   7.92161107e-01 -1.04803848e+00 -7.37197876e-01  7.49755025e-01\n",
      "  -8.14481556e-01 -2.80096948e-01  3.25725460e-03  2.52262950e-01\n",
      "  -9.44928229e-02  6.30288124e-01  5.95009089e-01 -3.21113706e-01\n",
      "   6.17690682e-02  1.35229468e-01 -3.17240357e-01  4.62429136e-01\n",
      "  -3.71723652e-01  2.57797897e-01 -4.64475989e-01 -5.05544960e-01\n",
      "   1.97939649e-01 -1.57401845e-01 -6.05642796e-01 -1.18022256e-01\n",
      "  -1.18058547e-01  6.30379140e-01 -2.55345553e-01  1.35677293e-01\n",
      "   3.10463253e-02 -1.09898913e+00  1.13120091e+00  7.64788449e-01\n",
      "   1.94604838e+00  3.36575322e-02 -2.59769589e-01  2.17836186e-01\n",
      "  -2.81500340e-01  4.71927136e-01  9.84921306e-02  4.76129681e-01\n",
      "   1.99561238e-01  1.06934643e+00 -2.41057947e-01  9.78334844e-01\n",
      "  -1.26505554e+00  8.57518137e-01  2.45915860e-01 -4.22218926e-02\n",
      "   5.64797223e-01  8.57746720e-01 -7.90467322e-01  8.01196545e-02\n",
      "  -5.33902466e-01  4.15819436e-01 -1.02482116e+00  7.90890381e-02\n",
      "   2.15560600e-01  1.07253420e+00 -1.40121114e+00  5.67342460e-01\n",
      "   1.85858414e-01 -5.16143799e-01  2.75418758e-01  2.65243147e-02\n",
      "   5.68423331e-01  1.21834027e-02  2.13230699e-01 -2.83025026e-01\n",
      "   1.68454602e-01  2.33564392e-01 -1.74625777e-02 -6.35255098e-01\n",
      "  -6.86907843e-02  9.42996323e-01 -9.96312201e-01 -4.17854220e-01\n",
      "  -4.34540898e-01  1.20972383e+00  7.56685110e-03  7.38447487e-01\n",
      "  -7.50908136e-01  1.11152567e-01 -3.53333861e-01  1.22293361e-01\n",
      "   4.31091934e-02 -1.04920983e+00 -2.90415704e-01 -6.45323157e-01\n",
      "  -8.06881189e-01 -1.47918329e-01 -9.55246389e-01 -9.21080858e-02\n",
      "  -4.04690981e-01 -1.65865734e-01 -8.07580769e-01  3.55161786e-01\n",
      "   9.93982673e-01 -8.34202349e-01  4.88821954e-01 -6.95117265e-02\n",
      "   5.82035959e-01  2.12607488e-01  2.57570803e-01  8.37727249e-01\n",
      "  -3.82430434e-01  4.55773413e-01 -6.97674602e-02  2.47807465e-02\n",
      "   4.05273944e-01 -1.88230025e-03 -5.77781856e-01 -3.59000444e-01\n",
      "   5.32421827e-01 -4.98707414e-01 -1.24019802e+00  4.77840871e-01\n",
      "  -4.29879963e-01 -2.14121029e-01 -3.64569396e-01 -1.01238482e-01\n",
      "   1.15295899e+00  3.88379134e-02  2.26789877e-01 -1.05185032e+00\n",
      "   7.89751172e-01 -5.57905734e-02 -1.22351544e-02  1.85319260e-01\n",
      "  -6.50227487e-01 -4.07252699e-01  6.46436274e-01 -3.71405423e-01\n",
      "  -7.47261643e-02 -3.67091775e-01 -1.10437036e-01  6.69890866e-02\n",
      "  -1.69658735e-01  5.46494901e-01 -1.18404865e-01  7.25915879e-02\n",
      "   3.01603884e-01  1.27707160e+00  2.98033476e-01 -3.88565570e-01\n",
      "   7.49846697e-01 -3.15411389e-01 -7.40594417e-02  5.39111607e-02\n",
      "   6.20673895e-01  5.83517373e-01 -1.37315392e-02  2.19012767e-01\n",
      "  -3.35599452e-01 -8.41848433e-01  6.26504362e-01  3.09916865e-02\n",
      "   1.05185568e+00  6.43814385e-01 -2.00885832e-01  2.68792331e-01\n",
      "   3.89342785e-01 -7.75342405e-01 -9.52077866e-01 -5.86874604e-01\n",
      "   2.68415034e-01 -7.44463980e-01 -2.59368807e-01  1.94951519e-01\n",
      "   2.45814443e-01 -6.45442843e-01  1.71258962e+00 -3.55518579e-01\n",
      "   5.40516853e-01 -7.41822481e-01  6.59617484e-01  1.33466673e+00\n",
      "   2.82173455e-01  1.34403724e-02 -2.85741180e-01  9.11949396e-01\n",
      "   4.54841167e-01 -6.97992802e-01  8.22979331e-01  9.15505290e-02\n",
      "  -6.77698314e-01 -4.42955494e-01  8.84984016e-01 -1.12818487e-01\n",
      "   2.54522562e-01 -6.01589680e-01  2.91899920e-01 -1.52699858e-01\n",
      "   7.97476053e-01 -6.34777069e-01  7.75647521e-01  3.69396806e-01\n",
      "  -7.05733299e-01  9.28117454e-01  5.89217424e-01  7.68826425e-01\n",
      "   4.22082007e-01  8.99629414e-01  7.84399986e-01  9.54525411e-01\n",
      "  -1.09205194e-01 -2.86984622e-01 -1.05672956e+00 -6.67523563e-01\n",
      "   5.84125102e-01  4.90177900e-01  9.04771090e-01 -1.29981950e-01\n",
      "  -9.34115052e-01  9.94441867e-01  8.36129487e-01  3.37636441e-01\n",
      "   2.52856910e-01  4.85852748e-01  5.39444566e-01 -8.77345145e-01\n",
      "   1.14940189e-01  7.57660210e-01 -4.16496173e-02 -1.18758094e+00\n",
      "   5.77743053e-02  7.25452423e-01 -3.84781599e-01 -2.88671225e-01\n",
      "   8.37641895e-01 -2.20151275e-01 -1.45354402e+00  3.59354377e-01\n",
      "   2.12820545e-01  2.53564060e-01 -6.84467971e-01  9.40935537e-02\n",
      "  -3.21036309e-01 -1.85361877e-02 -2.31801659e-01  3.82613391e-01\n",
      "   1.36394352e-01  1.95662841e-01 -9.68847811e-01  9.97144878e-01\n",
      "   1.73079208e-01 -1.18164098e+00 -5.39674401e-01  9.07649934e-01\n",
      "   3.18114102e-01 -3.24499648e-04 -4.39251333e-01 -1.07134449e+00\n",
      "   1.81776360e-01  1.08612967e+00 -6.74361050e-01 -5.66629291e-01\n",
      "   1.59349337e-01  6.18587315e-01  5.42646229e-01 -1.93529323e-01\n",
      "  -2.02235952e-01  6.44005418e-01 -5.82726859e-02 -1.19089377e+00\n",
      "   6.95631653e-02 -1.17338347e+00 -9.22453642e-01 -4.00403738e-01\n",
      "   2.61909097e-01  8.95968199e-01  1.15989971e+00 -5.21687806e-01\n",
      "   3.40719670e-01  2.42897794e-01 -8.93123820e-02 -5.15675724e-01\n",
      "   5.12479544e-01  1.34794176e-01  2.82396656e-02 -2.84970254e-01\n",
      "  -1.49838877e+00 -4.60318714e-01 -4.80824798e-01  3.03485155e-01\n",
      "   6.82763159e-02  2.18250811e-01  1.81376025e-01 -2.44234905e-01\n",
      "   4.34703797e-01  9.66224611e-01  4.51885253e-01 -3.97419095e-01\n",
      "  -7.32049644e-01 -5.35281181e-01  3.56608182e-02 -3.05597126e-01\n",
      "  -1.95782438e-01  2.76901156e-01 -3.08432877e-01 -3.72730970e-01\n",
      "  -1.71788245e-01 -4.61875588e-01 -1.21274018e+00 -7.65460789e-01\n",
      "   6.68074012e-01 -1.15456116e+00 -9.91665542e-01  9.17354524e-01\n",
      "   3.36316168e-01 -3.15033466e-01 -9.33397889e-01  6.50439084e-01\n",
      "  -1.09303743e-01 -4.36274081e-01  7.77674913e-01  4.89448965e-01\n",
      "  -1.01606357e+00  1.78738666e+00  8.65623891e-01  3.56870770e-01\n",
      "  -2.84725428e-01  5.26661515e-01 -1.28009796e-01  7.19090283e-01\n",
      "  -5.80697767e-02 -3.37385595e-01 -5.51697552e-01  3.07894737e-01\n",
      "   3.63128632e-02 -2.13255808e-01 -2.06030197e-02  2.18613535e-01\n",
      "  -1.05878815e-01 -4.13036764e-01 -1.17391467e+00  1.38570952e+00\n",
      "   6.65585756e-01  4.44107085e-01  2.19610333e-01 -2.87563622e-01\n",
      "   2.19628379e-01 -4.26632196e-01  9.53005701e-02 -4.36926752e-01\n",
      "   5.04544735e-01  7.29602993e-01  5.61349690e-01 -4.52154219e-01\n",
      "  -8.91779900e-01  4.34442639e-01 -5.01679331e-02 -1.03857428e-01\n",
      "   2.93516982e-02 -1.76561400e-01  9.42872986e-02 -4.86618102e-01\n",
      "  -6.66779637e-01 -2.31324986e-01  6.14226580e-01 -3.44404399e-01\n",
      "   1.79192096e-01  1.53778240e-01  5.71287237e-02  4.05998588e-01\n",
      "  -5.15454650e-01 -3.03706974e-02  5.35309494e-01 -1.52125701e-01\n",
      "   1.60021678e-01 -4.94295150e-01  1.81039587e-01 -3.72727215e-01\n",
      "  -1.59428552e-01  4.90564018e-01 -3.01990509e-01  2.39014030e-01\n",
      "   9.17205989e-01  5.76486409e-01 -7.93080963e-03  1.28805518e-01\n",
      "  -2.86669642e-01  8.75114352e-02  3.11410785e-01  7.53437638e-01\n",
      "   3.25836778e-01 -7.80241370e-01 -5.09344101e-01 -8.82071972e-01\n",
      "  -7.41803050e-01  7.73426592e-01 -5.87447882e-02 -1.03436895e-01\n",
      "  -3.70027542e-01 -4.42270547e-01  1.11761594e+00 -4.43166912e-01\n",
      "  -5.02195239e-01  3.53410542e-01 -7.01695144e-01  7.11878836e-01\n",
      "  -1.77547067e-01 -5.12374341e-01  1.03078914e+00 -1.83531255e-01\n",
      "  -1.11657724e-01  9.60497797e-01  7.05047846e-01  1.46121353e-01\n",
      "  -4.23804909e-01 -1.59724638e-01  1.48702353e-01  1.33273184e+00\n",
      "  -2.64009595e-01  8.64423752e-01 -1.46266609e-01 -8.54111552e-01\n",
      "   4.04711127e-01  4.35676396e-01 -1.71479017e-01  8.17598462e-01\n",
      "  -9.98956800e-01 -4.66739014e-02 -7.79729247e-01 -2.10855410e-01\n",
      "   9.21553016e-01  4.27599698e-01  8.30849648e-01 -1.71260778e-02\n",
      "   3.25081170e-01 -2.53535569e-01 -7.69634068e-01 -1.35381240e-02]]\n"
     ]
    }
   ],
   "source": [
    "from keras import backend as K\n",
    "\n",
    "inp = model.input                                           # input placeholder\n",
    "outputs = [layer.output for layer in model.layers]          # all layer outputs\n",
    "functors = [K.function([inp], [out]) for out in outputs]    # evaluation functions\n",
    "\n",
    "# Testing\n",
    "test = np.random.random(784)[np.newaxis,...]\n",
    "layer_outs = [func([test]) for func in functors]\n",
    "print(layer_outs[0][0])"
   ]
  },
  {
   "cell_type": "code",
   "execution_count": 26,
   "metadata": {},
   "outputs": [],
   "source": [
    "from ipywidgets import interact_manual"
   ]
  },
  {
   "cell_type": "code",
   "execution_count": 27,
   "metadata": {},
   "outputs": [],
   "source": [
    "def FULL_CONNECT_NEURAL_NETWORK (num):\n",
    "    plt.imshow(x_test[num].reshape(28,28) , cmap = \"Greys\")\n",
    "    print(\"神經網路預測結果為 :\" , predicts[num] )"
   ]
  },
  {
   "cell_type": "code",
   "execution_count": 28,
   "metadata": {},
   "outputs": [
    {
     "data": {
      "application/vnd.jupyter.widget-view+json": {
       "model_id": "5ae34d9a14c14b67b10b3114eb9764ae",
       "version_major": 2,
       "version_minor": 0
      },
      "text/plain": [
       "interactive(children=(IntSlider(value=4999, description='num', max=9999), Button(description='Run Interact', s…"
      ]
     },
     "metadata": {},
     "output_type": "display_data"
    },
    {
     "data": {
      "text/plain": [
       "<function __main__.FULL_CONNECT_NEURAL_NETWORK(num)>"
      ]
     },
     "execution_count": 28,
     "metadata": {},
     "output_type": "execute_result"
    }
   ],
   "source": [
    "interact_manual(FULL_CONNECT_NEURAL_NETWORK , num = (0 , 9999))"
   ]
  },
  {
   "cell_type": "code",
   "execution_count": 29,
   "metadata": {},
   "outputs": [],
   "source": [
    "model_json = model.to_json()\n",
    "open(\"handwriting_model.json\" , \"w\" ).write(model_json)\n",
    "model.save_weights(\"handwriting_model_weights.h5\")"
   ]
  },
  {
   "cell_type": "code",
   "execution_count": null,
   "metadata": {},
   "outputs": [],
   "source": []
  }
 ],
 "metadata": {
  "kernelspec": {
   "display_name": "Python 3",
   "language": "python",
   "name": "python3"
  },
  "language_info": {
   "codemirror_mode": {
    "name": "ipython",
    "version": 3
   },
   "file_extension": ".py",
   "mimetype": "text/x-python",
   "name": "python",
   "nbconvert_exporter": "python",
   "pygments_lexer": "ipython3",
   "version": "3.7.1"
  }
 },
 "nbformat": 4,
 "nbformat_minor": 2
}
