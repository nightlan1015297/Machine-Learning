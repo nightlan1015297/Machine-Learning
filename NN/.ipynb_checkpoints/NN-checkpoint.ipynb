{
 "cells": [
  {
   "cell_type": "code",
   "execution_count": 1,
   "metadata": {},
   "outputs": [
    {
     "name": "stdout",
     "output_type": "stream",
     "text": [
      "env: KERAS_BACKEND=tensorflow\n"
     ]
    }
   ],
   "source": [
    "%env KERAS_BACKEND = tensorflow"
   ]
  },
  {
   "cell_type": "code",
   "execution_count": 2,
   "metadata": {},
   "outputs": [],
   "source": [
    "%matplotlib inline\n",
    "\n",
    "import numpy as np\n",
    "import matplotlib.pyplot as plt"
   ]
  },
  {
   "cell_type": "code",
   "execution_count": 3,
   "metadata": {},
   "outputs": [
    {
     "name": "stderr",
     "output_type": "stream",
     "text": [
      "Using TensorFlow backend.\n"
     ]
    }
   ],
   "source": [
    "from keras.datasets import mnist"
   ]
  },
  {
   "cell_type": "code",
   "execution_count": 4,
   "metadata": {},
   "outputs": [],
   "source": [
    "(x_train , y_train) , (x_test , y_test) = mnist.load_data()"
   ]
  },
  {
   "cell_type": "code",
   "execution_count": 5,
   "metadata": {},
   "outputs": [
    {
     "data": {
      "text/plain": [
       "numpy.ndarray"
      ]
     },
     "execution_count": 5,
     "metadata": {},
     "output_type": "execute_result"
    }
   ],
   "source": [
    "type(x_train)"
   ]
  },
  {
   "cell_type": "code",
   "execution_count": 6,
   "metadata": {},
   "outputs": [
    {
     "data": {
      "text/plain": [
       "60000"
      ]
     },
     "execution_count": 6,
     "metadata": {},
     "output_type": "execute_result"
    }
   ],
   "source": [
    "len(x_train)"
   ]
  },
  {
   "cell_type": "code",
   "execution_count": 7,
   "metadata": {},
   "outputs": [
    {
     "data": {
      "text/plain": [
       "array([[  0,   0,   0,   0,   0,   0,   0,   0,   0,   0,   0,   0,   0,\n",
       "          0,   0,   0,   0,   0,   0,   0,   0,   0,   0,   0,   0,   0,\n",
       "          0,   0],\n",
       "       [  0,   0,   0,   0,   0,   0,   0,   0,   0,   0,   0,   0,   0,\n",
       "          0,   0,   0,   0,   0,   0,   0,   0,   0,   0,   0,   0,   0,\n",
       "          0,   0],\n",
       "       [  0,   0,   0,   0,   0,   0,   0,   0,   0,   0,   0,   0,   0,\n",
       "          0,   0,   0,   0,   0,   0,   0,   0,   0,   0,   0,   0,   0,\n",
       "          0,   0],\n",
       "       [  0,   0,   0,   0,   0,   0,   0,   0,   0,   0,   0,   0,   0,\n",
       "          0,   0,   0,   0,   0,   0,   0,   0,   0,   0,   0,   0,   0,\n",
       "          0,   0],\n",
       "       [  0,   0,   0,   0,   0,   0,   0,   0,   0,   0,   0,  29, 197,\n",
       "        255,  84,   0,   0,   0,   0,   0,   0,   0,   0,   0,   0,   0,\n",
       "          0,   0],\n",
       "       [  0,   0,   0,   0,   0,   0,   0,   0,   0,   0,   0,  85, 251,\n",
       "        253,  83,   0,   0,   0,   0,   0,   0,   0,   0,   0,   0,   0,\n",
       "          0,   0],\n",
       "       [  0,   0,   0,   0,   0,   0,   0,   0,   0,   0,   0,  86, 253,\n",
       "        254, 253,   0,   0,   0,   0,   0,   0,   0,   0,   0,   0,   0,\n",
       "          0,   0],\n",
       "       [  0,   0,   0,   0,   0,   0,   0,   0,   0,   0,   0,  85, 251,\n",
       "        253, 251,   0,   0,   0,   0,   0,   0,   0,   0,   0,   0,   0,\n",
       "          0,   0],\n",
       "       [  0,   0,   0,   0,   0,   0,   0,   0,   0,   0,   0,  86, 253,\n",
       "        254, 253, 169,   0,   0,   0,   0,   0,   0,   0,   0,   0,   0,\n",
       "          0,   0],\n",
       "       [  0,   0,   0,   0,   0,   0,   0,   0,   0,   0,   0,  85, 251,\n",
       "        253, 251, 168,   0,   0,   0,   0,   0,   0,   0,   0,   0,   0,\n",
       "          0,   0],\n",
       "       [  0,   0,   0,   0,   0,   0,   0,   0,   0,   0,   0,  86, 253,\n",
       "        254, 253, 169,   0,   0,   0,   0,   0,   0,   0,   0,   0,   0,\n",
       "          0,   0],\n",
       "       [  0,   0,   0,   0,   0,   0,   0,   0,   0,   0,   0,  28, 196,\n",
       "        253, 251, 168,   0,   0,   0,   0,   0,   0,   0,   0,   0,   0,\n",
       "          0,   0],\n",
       "       [  0,   0,   0,   0,   0,   0,   0,   0,   0,   0,   0,   0, 169,\n",
       "        254, 253, 169,   0,   0,   0,   0,   0,   0,   0,   0,   0,   0,\n",
       "          0,   0],\n",
       "       [  0,   0,   0,   0,   0,   0,   0,   0,   0,   0,   0,   0, 168,\n",
       "        253, 251, 168,   0,   0,   0,   0,   0,   0,   0,   0,   0,   0,\n",
       "          0,   0],\n",
       "       [  0,   0,   0,   0,   0,   0,   0,   0,   0,   0,   0,   0, 169,\n",
       "        254, 253, 169,   0,   0,   0,   0,   0,   0,   0,   0,   0,   0,\n",
       "          0,   0],\n",
       "       [  0,   0,   0,   0,   0,   0,   0,   0,   0,   0,   0,   0, 168,\n",
       "        253, 251, 168,   0,   0,   0,   0,   0,   0,   0,   0,   0,   0,\n",
       "          0,   0],\n",
       "       [  0,   0,   0,   0,   0,   0,   0,   0,   0,   0,   0,   0,   0,\n",
       "        254, 253, 254, 139,   0,   0,   0,   0,   0,   0,   0,   0,   0,\n",
       "          0,   0],\n",
       "       [  0,   0,   0,   0,   0,   0,   0,   0,   0,   0,   0,   0,   0,\n",
       "        253, 251, 253, 251,   0,   0,   0,   0,   0,   0,   0,   0,   0,\n",
       "          0,   0],\n",
       "       [  0,   0,   0,   0,   0,   0,   0,   0,   0,   0,   0,   0,   0,\n",
       "        254, 253, 254, 253,  57,   0,   0,   0,   0,   0,   0,   0,   0,\n",
       "          0,   0],\n",
       "       [  0,   0,   0,   0,   0,   0,   0,   0,   0,   0,   0,   0,   0,\n",
       "        253, 251, 253, 251, 168,   0,   0,   0,   0,   0,   0,   0,   0,\n",
       "          0,   0],\n",
       "       [  0,   0,   0,   0,   0,   0,   0,   0,   0,   0,   0,   0,   0,\n",
       "        198, 253, 254, 253, 114,   0,   0,   0,   0,   0,   0,   0,   0,\n",
       "          0,   0],\n",
       "       [  0,   0,   0,   0,   0,   0,   0,   0,   0,   0,   0,   0,   0,\n",
       "         85, 251, 253, 251,   0,   0,   0,   0,   0,   0,   0,   0,   0,\n",
       "          0,   0],\n",
       "       [  0,   0,   0,   0,   0,   0,   0,   0,   0,   0,   0,   0,   0,\n",
       "         85, 253, 254, 253,   0,   0,   0,   0,   0,   0,   0,   0,   0,\n",
       "          0,   0],\n",
       "       [  0,   0,   0,   0,   0,   0,   0,   0,   0,   0,   0,   0,   0,\n",
       "         28,  83, 196,  83,   0,   0,   0,   0,   0,   0,   0,   0,   0,\n",
       "          0,   0],\n",
       "       [  0,   0,   0,   0,   0,   0,   0,   0,   0,   0,   0,   0,   0,\n",
       "          0,   0,   0,   0,   0,   0,   0,   0,   0,   0,   0,   0,   0,\n",
       "          0,   0],\n",
       "       [  0,   0,   0,   0,   0,   0,   0,   0,   0,   0,   0,   0,   0,\n",
       "          0,   0,   0,   0,   0,   0,   0,   0,   0,   0,   0,   0,   0,\n",
       "          0,   0],\n",
       "       [  0,   0,   0,   0,   0,   0,   0,   0,   0,   0,   0,   0,   0,\n",
       "          0,   0,   0,   0,   0,   0,   0,   0,   0,   0,   0,   0,   0,\n",
       "          0,   0],\n",
       "       [  0,   0,   0,   0,   0,   0,   0,   0,   0,   0,   0,   0,   0,\n",
       "          0,   0,   0,   0,   0,   0,   0,   0,   0,   0,   0,   0,   0,\n",
       "          0,   0]], dtype=uint8)"
      ]
     },
     "execution_count": 7,
     "metadata": {},
     "output_type": "execute_result"
    }
   ],
   "source": [
    "x_train[200]"
   ]
  },
  {
   "cell_type": "code",
   "execution_count": 8,
   "metadata": {},
   "outputs": [
    {
     "data": {
      "text/plain": [
       "(28, 28)"
      ]
     },
     "execution_count": 8,
     "metadata": {},
     "output_type": "execute_result"
    }
   ],
   "source": [
    "x_train[200].shape"
   ]
  },
  {
   "cell_type": "code",
   "execution_count": 9,
   "metadata": {},
   "outputs": [
    {
     "data": {
      "text/plain": [
       "<matplotlib.image.AxesImage at 0x1f743879cc0>"
      ]
     },
     "execution_count": 9,
     "metadata": {},
     "output_type": "execute_result"
    },
    {
     "data": {
      "image/png": "[encoded data removed]",
      "text/plain": [
       "<Figure size 432x288 with 1 Axes>"
      ]
     },
     "metadata": {
      "needs_background": "light"
     },
     "output_type": "display_data"
    }
   ],
   "source": [
    "plt.imshow(x_train[200] , cmap = \"Greys\")"
   ]
  },
  {
   "cell_type": "code",
   "execution_count": 10,
   "metadata": {},
   "outputs": [
    {
     "data": {
      "text/plain": [
       "1"
      ]
     },
     "execution_count": 10,
     "metadata": {},
     "output_type": "execute_result"
    }
   ],
   "source": [
    "y_train[200]"
   ]
  },
  {
   "cell_type": "code",
   "execution_count": 11,
   "metadata": {},
   "outputs": [
    {
     "data": {
      "text/plain": [
       "(60000, 28, 28)"
      ]
     },
     "execution_count": 11,
     "metadata": {},
     "output_type": "execute_result"
    }
   ],
   "source": [
    "x_train.shape"
   ]
  },
  {
   "cell_type": "code",
   "execution_count": 12,
   "metadata": {},
   "outputs": [],
   "source": [
    "x_train = x_train.reshape(60000, 784)\n",
    "x_test = x_test.reshape(10000, 784)"
   ]
  },
  {
   "cell_type": "code",
   "execution_count": 13,
   "metadata": {},
   "outputs": [
    {
     "data": {
      "text/plain": [
       "(60000, 784)"
      ]
     },
     "execution_count": 13,
     "metadata": {},
     "output_type": "execute_result"
    }
   ],
   "source": [
    "x_train.shape"
   ]
  },
  {
   "cell_type": "code",
   "execution_count": 14,
   "metadata": {},
   "outputs": [],
   "source": [
    "from keras.utils import np_utils"
   ]
  },
  {
   "cell_type": "code",
   "execution_count": 15,
   "metadata": {},
   "outputs": [],
   "source": [
    "y_train = np_utils.to_categorical(y_train , 10)\n",
    "y_test = np_utils.to_categorical(y_test , 10)"
   ]
  },
  {
   "cell_type": "code",
   "execution_count": 16,
   "metadata": {},
   "outputs": [
    {
     "data": {
      "text/plain": [
       "array([0., 1., 0., 0., 0., 0., 0., 0., 0., 0.], dtype=float32)"
      ]
     },
     "execution_count": 16,
     "metadata": {},
     "output_type": "execute_result"
    }
   ],
   "source": [
    "y_train[200]"
   ]
  },
  {
   "cell_type": "code",
   "execution_count": 17,
   "metadata": {},
   "outputs": [],
   "source": [
    "from keras.models import Sequential\n",
    "from keras.layers import Dense , Activation\n",
    "from keras.optimizers import sgd"
   ]
  },
  {
   "cell_type": "code",
   "execution_count": 41,
   "metadata": {},
   "outputs": [],
   "source": [
    "sess = tf.InteractiveSession()\n",
    "model = Sequential()"
   ]
  },
  {
   "cell_type": "code",
   "execution_count": 42,
   "metadata": {},
   "outputs": [],
   "source": [
    "model.add(Dense(500 , input_dim =784))\n",
    "model.add(Activation(\"sigmoid\"))"
   ]
  },
  {
   "cell_type": "code",
   "execution_count": 43,
   "metadata": {},
   "outputs": [],
   "source": [
    "model.add(Dense(500))\n",
    "model.add(Activation(\"sigmoid\"))"
   ]
  },
  {
   "cell_type": "code",
   "execution_count": 44,
   "metadata": {},
   "outputs": [],
   "source": [
    "model.add(Dense(10))\n",
    "model.add(Activation(\"softmax\"))"
   ]
  },
  {
   "cell_type": "code",
   "execution_count": 45,
   "metadata": {},
   "outputs": [],
   "source": [
    "model.compile(loss = \"mse\" , optimizer= sgd(lr = 0.1) , metrics=[\"accuracy\"])"
   ]
  },
  {
   "cell_type": "code",
   "execution_count": 46,
   "metadata": {
    "scrolled": true
   },
   "outputs": [
    {
     "name": "stdout",
     "output_type": "stream",
     "text": [
      "_________________________________________________________________\n",
      "Layer (type)                 Output Shape              Param #   \n",
      "=================================================================\n",
      "dense_4 (Dense)              (None, 500)               392500    \n",
      "_________________________________________________________________\n",
      "activation_4 (Activation)    (None, 500)               0         \n",
      "_________________________________________________________________\n",
      "dense_5 (Dense)              (None, 500)               250500    \n",
      "_________________________________________________________________\n",
      "activation_5 (Activation)    (None, 500)               0         \n",
      "_________________________________________________________________\n",
      "dense_6 (Dense)              (None, 10)                5010      \n",
      "_________________________________________________________________\n",
      "activation_6 (Activation)    (None, 10)                0         \n",
      "=================================================================\n",
      "Total params: 648,010\n",
      "Trainable params: 648,010\n",
      "Non-trainable params: 0\n",
      "_________________________________________________________________\n"
     ]
    }
   ],
   "source": [
    "model.summary()"
   ]
  },
  {
   "cell_type": "code",
   "execution_count": 47,
   "metadata": {},
   "outputs": [
    {
     "name": "stdout",
     "output_type": "stream",
     "text": [
      "Epoch 1/1\n",
      "60000/60000 [==============================] - 8s 129us/step - loss: 0.0832 - acc: 0.3709\n"
     ]
    },
    {
     "data": {
      "text/plain": [
       "<keras.callbacks.History at 0x1f7438f0048>"
      ]
     },
     "execution_count": 47,
     "metadata": {},
     "output_type": "execute_result"
    }
   ],
   "source": [
    "model.fit(x_train , y_train , batch_size = 100 , epochs = 1)"
   ]
  },
  {
   "cell_type": "code",
   "execution_count": 77,
   "metadata": {},
   "outputs": [
    {
     "name": "stdout",
     "output_type": "stream",
     "text": [
      "[array([[-9.23483968e-01,  3.16465199e-01,  3.81163955e-02,\n",
      "        -3.01771075e-01,  5.25070727e-01, -8.88499916e-01,\n",
      "        -3.35259974e-01, -1.93688124e-01, -1.66444913e-01,\n",
      "         2.00822520e+00, -4.04690057e-01, -9.47725296e-01,\n",
      "         2.45354757e-01, -8.37487996e-01,  2.00521335e-01,\n",
      "         7.36482024e-01,  6.99244320e-01, -2.88812310e-01,\n",
      "         4.80145961e-02,  4.43217397e-01, -2.26812720e-01,\n",
      "         7.52197921e-01, -3.11872602e-01, -3.03805828e-01,\n",
      "        -9.37595546e-01, -9.84100640e-01,  3.32980007e-01,\n",
      "         8.64751995e-01, -1.78256258e-01, -4.24776673e-01,\n",
      "        -2.95986414e-01, -3.44095886e-01,  9.10164595e-01,\n",
      "         6.01789802e-02, -4.15651292e-01,  1.63461611e-01,\n",
      "        -5.66576779e-01,  1.02874123e-01, -7.94003308e-01,\n",
      "        -1.29309022e+00, -8.60956237e-02,  3.45659937e-05,\n",
      "        -2.66291559e-01,  1.65873989e-02,  4.86095250e-01,\n",
      "        -8.26780438e-01,  6.90254122e-02,  1.61730140e-01,\n",
      "         2.78075188e-01,  1.26492584e+00, -8.77868310e-02,\n",
      "        -9.97723937e-01,  1.31231621e-01,  1.05977461e-01,\n",
      "         7.12176621e-01,  1.03309166e+00,  3.75249952e-01,\n",
      "         6.25604749e-01, -3.38580668e-01,  1.24266282e-01,\n",
      "         1.35436013e-01, -3.45137447e-01, -1.02996922e+00,\n",
      "         5.78626096e-01, -8.10767617e-03, -1.11332811e-01,\n",
      "         1.69901505e-01, -3.20981145e-01,  3.28232795e-02,\n",
      "        -4.08143312e-01, -8.54143143e-01,  4.42357719e-01,\n",
      "        -3.66188109e-01,  1.12368474e-02, -5.50893486e-01,\n",
      "         1.10484950e-01, -5.07099032e-02,  4.09026504e-01,\n",
      "         2.05785561e+00,  2.70030238e-02,  2.79346377e-01,\n",
      "         3.00689012e-01, -4.98407215e-01, -2.31748030e-01,\n",
      "        -1.00615406e+00,  8.29459190e-01,  1.17203653e-01,\n",
      "        -1.51630521e-01, -3.11938137e-01, -3.02727252e-01,\n",
      "        -3.86312008e-01, -1.10196143e-01, -3.33665609e-01,\n",
      "         4.76161808e-01,  3.01557422e-01,  1.17771022e-01,\n",
      "         4.11037683e-01, -7.71327391e-02,  1.11719811e+00,\n",
      "         5.59152842e-01,  9.19391334e-01,  5.66630602e-01,\n",
      "        -6.19808555e-01,  3.66247073e-02, -2.70206571e-01,\n",
      "         5.38911700e-01,  7.91988492e-01, -1.38163269e-01,\n",
      "         1.55232877e-01,  9.17137325e-01, -5.17102540e-01,\n",
      "         7.90879548e-01, -8.23870599e-01,  3.11377108e-01,\n",
      "        -8.94591630e-01, -1.53635234e-01,  2.25970939e-01,\n",
      "         5.81048727e-01, -5.16987965e-02,  2.24567369e-01,\n",
      "        -1.50663286e-01,  1.18351245e+00, -9.76718187e-01,\n",
      "         2.11900696e-01,  3.73317569e-01,  5.85594058e-01,\n",
      "        -9.72608447e-01,  1.27143908e+00, -1.26692906e-01,\n",
      "        -4.39408720e-01,  1.49219215e-01, -5.11189163e-01,\n",
      "         6.17450774e-01,  5.46027958e-01, -4.34599280e-01,\n",
      "         2.41011485e-01, -3.01072210e-01, -4.04990405e-01,\n",
      "        -3.63028705e-01, -5.09696782e-01, -7.99238920e-01,\n",
      "         5.29284962e-03, -2.28562709e-02, -4.67629284e-01,\n",
      "        -5.43220714e-03,  1.38395905e+00, -8.71624351e-02,\n",
      "         9.27411497e-01, -1.72673896e-01, -1.66459724e-01,\n",
      "        -3.88562799e-01,  3.08759268e-02,  3.02566886e-01,\n",
      "        -1.97231710e-01, -3.12206298e-01, -3.52397650e-01,\n",
      "        -5.49930394e-01,  1.30027100e-01, -7.29047716e-01,\n",
      "         5.94997145e-02, -5.20134926e-01, -5.31396031e-01,\n",
      "        -8.10699165e-01,  4.31623399e-01,  5.97786307e-01,\n",
      "        -2.20756844e-01, -2.68094331e-01,  4.02769178e-01,\n",
      "         4.28511292e-01,  8.98956597e-01,  5.44797540e-01,\n",
      "        -5.51677570e-02, -9.80902165e-02,  1.14083484e-01,\n",
      "         8.80899310e-01,  2.89960831e-01,  4.20359462e-01,\n",
      "         3.70814383e-01, -2.76727110e-01, -6.86620057e-01,\n",
      "        -1.21252529e-01, -1.06108654e+00, -1.00909889e+00,\n",
      "         9.54898894e-01, -6.20396793e-01, -3.98763299e-01,\n",
      "         2.33027026e-01,  5.14564693e-01,  5.29780209e-01,\n",
      "        -2.38688171e-01, -8.26817378e-02, -1.91616106e+00,\n",
      "         1.53857327e+00,  2.57015377e-01, -1.99314818e-01,\n",
      "         3.72574717e-01,  1.72552392e-01,  2.97153629e-02,\n",
      "         3.82007420e-01,  2.22140893e-01, -5.96483529e-01,\n",
      "        -9.65045020e-02, -4.04955387e-01, -8.53424706e-03,\n",
      "         2.79050529e-01,  7.46893167e-01, -3.02409708e-01,\n",
      "         4.57175434e-01,  9.28748548e-01,  1.37215689e-01,\n",
      "        -8.10326040e-01, -1.67968959e-01, -1.77249521e-01,\n",
      "        -4.34229285e-01,  1.84894785e-01, -1.99093491e-01,\n",
      "         2.15923965e-01,  8.16517398e-02, -5.74487597e-02,\n",
      "         4.36708599e-01, -2.32071698e-01, -1.22560096e+00,\n",
      "        -4.87111509e-02, -1.26698390e-01,  3.74451071e-01,\n",
      "         4.33020204e-01,  8.92011970e-02, -1.35475725e-01,\n",
      "        -1.81908771e-01, -3.93295079e-01, -3.82511765e-01,\n",
      "         5.51470816e-02, -5.22578252e-04, -9.56317127e-01,\n",
      "        -4.26710933e-01, -2.85675913e-01, -3.51241916e-01,\n",
      "         4.07363335e-03,  9.38263237e-01, -9.69258964e-01,\n",
      "         4.87003684e-01, -5.50336465e-02,  9.44637537e-01,\n",
      "         2.02362105e-01,  6.86569750e-01,  7.80772716e-02,\n",
      "        -8.04313242e-01,  3.21150338e-03,  7.56222159e-02,\n",
      "        -8.69049132e-01,  1.20008135e+00,  7.07290769e-02,\n",
      "        -3.02404948e-02, -8.15636814e-01,  1.57052863e+00,\n",
      "        -4.97367233e-01,  4.91310060e-02,  3.23146909e-01,\n",
      "         4.83031929e-01, -4.83157843e-01,  1.87036276e-01,\n",
      "        -1.99091598e-01, -2.69822121e-01,  7.95203447e-01,\n",
      "         1.94239393e-01,  4.96595174e-01,  3.26709032e-01,\n",
      "         6.80262208e-01,  6.25272572e-01, -3.32498588e-02,\n",
      "         8.31021428e-01,  1.30315697e+00,  3.12914342e-01,\n",
      "        -1.15547502e+00, -1.73688781e+00,  7.30825812e-02,\n",
      "         1.14025676e+00,  7.24683225e-01,  1.04101920e+00,\n",
      "         5.14336705e-01, -2.03079492e-01,  3.61928165e-01,\n",
      "         5.73243916e-01, -1.09982483e-01, -5.16643301e-02,\n",
      "         4.60109800e-01,  2.90480494e-01, -9.35298085e-01,\n",
      "         2.54211366e-01,  6.88691512e-02, -3.81273568e-01,\n",
      "        -1.19869888e+00,  4.70396876e-01,  4.95932221e-01,\n",
      "         5.23276366e-02, -3.21585208e-01,  1.11358118e+00,\n",
      "        -4.31640267e-01, -3.09997916e-01,  6.94154620e-01,\n",
      "        -4.50854562e-02,  4.59304601e-01, -4.84501779e-01,\n",
      "         1.00236809e+00,  9.92682800e-02, -2.24669725e-02,\n",
      "        -1.88190997e-01,  1.37143418e-01, -7.37603456e-02,\n",
      "         4.06095058e-01, -3.40150923e-01,  2.45153323e-01,\n",
      "         4.98625994e-01, -7.32216716e-01,  1.58762306e-01,\n",
      "         9.81198013e-01, -1.96140662e-01,  1.72768384e-01,\n",
      "        -3.57309312e-01, -1.00965631e+00,  6.82411119e-02,\n",
      "         8.02590370e-01, -6.12192094e-01, -4.05141488e-02,\n",
      "        -1.68600023e-01,  2.91573375e-01,  9.77069914e-01,\n",
      "        -2.79877305e-01,  1.28379598e-01, -4.72746253e-01,\n",
      "         4.60810333e-01, -1.26838386e+00,  9.81133133e-02,\n",
      "        -6.51429832e-01, -1.19818342e+00, -8.22992504e-01,\n",
      "        -3.17329317e-01,  4.55791980e-01,  1.98926210e+00,\n",
      "        -6.87482953e-02,  2.35591695e-01,  3.32396775e-02,\n",
      "        -5.30807078e-01, -1.76813126e-01,  1.29705083e+00,\n",
      "         3.31154466e-01, -2.09047258e-01, -7.71354139e-01,\n",
      "        -1.78620481e+00, -7.88544059e-01, -1.35937810e-01,\n",
      "         5.74231267e-01, -4.21829559e-02,  1.36867344e-01,\n",
      "        -2.70517975e-01, -7.85883427e-01, -6.78361133e-02,\n",
      "        -4.33807164e-01,  7.61742234e-01, -1.18774790e-02,\n",
      "        -2.32697368e-01,  6.52339309e-02, -4.28746253e-01,\n",
      "         4.51694816e-01,  6.67523518e-02, -8.79698619e-03,\n",
      "        -7.10510612e-01, -4.92797196e-01,  2.62892693e-01,\n",
      "        -6.98717058e-01, -7.14596570e-01,  1.74729705e-01,\n",
      "         3.67538452e-01, -1.19436276e+00, -1.00331080e+00,\n",
      "         4.34289306e-01, -8.42477083e-02,  4.61093396e-01,\n",
      "        -7.16484785e-01,  3.18643749e-01, -4.50210199e-02,\n",
      "         1.56222627e-01,  4.86534387e-01,  2.63726443e-01,\n",
      "        -6.16694577e-02,  1.16931331e+00,  7.11916089e-01,\n",
      "        -3.48285258e-01, -7.46141911e-01,  1.28112689e-01,\n",
      "        -1.54334098e-01,  8.14702034e-01,  1.14811249e-01,\n",
      "        -3.28412026e-01, -1.16404796e+00, -2.47961059e-01,\n",
      "         4.40109283e-01,  2.85148546e-02,  2.51776129e-01,\n",
      "         1.81556150e-01,  6.19621128e-02, -1.52320459e-01,\n",
      "        -6.25130057e-01,  1.36750209e+00,  3.09347719e-01,\n",
      "         1.20642042e+00, -3.53797913e-01, -4.55200613e-01,\n",
      "        -1.48638204e-01,  8.02727938e-01,  2.42046326e-01,\n",
      "        -4.74197149e-01, -2.96611041e-02,  9.89703387e-02,\n",
      "         3.04106593e-01, -9.47996199e-01, -2.59153932e-01,\n",
      "        -2.37484172e-01,  1.70602888e-01, -9.12256539e-01,\n",
      "        -3.42082769e-01,  6.41298667e-02,  2.48900726e-01,\n",
      "        -2.10889243e-02, -4.81062293e-01, -8.87902021e-01,\n",
      "         4.89830285e-01,  5.93539000e-01, -5.96027613e-01,\n",
      "         2.99593896e-01, -1.65061653e-01, -8.74729335e-01,\n",
      "        -1.07283926e+00,  6.34479761e-01,  6.08828068e-01,\n",
      "        -7.50056386e-01,  1.12863928e-02,  1.84286162e-01,\n",
      "        -1.95695087e-01, -2.00139731e-01, -9.39225972e-01,\n",
      "        -1.94161162e-01,  3.19096148e-01,  1.81082577e-01,\n",
      "         4.99007016e-01,  3.63404155e-01, -3.47621292e-01,\n",
      "        -2.22283021e-01, -1.19220145e-01,  1.23911098e-01,\n",
      "         6.24475539e-01,  1.23921275e+00,  1.72817796e-01,\n",
      "        -1.32605016e+00,  1.36617362e-01, -1.03872669e+00,\n",
      "        -5.85653245e-01,  2.15239108e-01,  1.58785567e-01,\n",
      "        -2.24587750e-02, -7.45446384e-01, -8.23455691e-01,\n",
      "         9.00203288e-01, -1.13407803e+00, -6.02296710e-01,\n",
      "         9.24941823e-02, -3.80783707e-01,  2.19510108e-01,\n",
      "         1.78305686e-01, -1.11147249e+00,  5.68547666e-01,\n",
      "        -7.68015534e-02, -3.48647870e-02,  1.93034738e-01,\n",
      "         1.15072668e+00, -3.27113003e-01, -1.50413409e-01,\n",
      "        -3.31795961e-01, -3.05126011e-01,  1.15325105e+00,\n",
      "         3.46517228e-02,  1.11445427e+00, -8.40909123e-01,\n",
      "         8.94773751e-02,  3.18462461e-01,  6.29372656e-01,\n",
      "        -4.27201122e-01,  7.84560919e-01, -1.34220648e+00,\n",
      "        -2.75695533e-01, -4.34173703e-01,  1.91743314e-01,\n",
      "         1.49737155e+00, -3.62302184e-01,  7.33895421e-01,\n",
      "        -3.93831223e-01,  1.42961040e-01, -2.23840639e-01,\n",
      "        -1.79581102e-02,  2.13578656e-01]], dtype=float32)]\n"
     ]
    }
   ],
   "source": [
    "from keras import backend as K\n",
    "\n",
    "inp = model.input                                           # input placeholder\n",
    "outputs = [layer.output for layer in model.layers]          # all layer outputs\n",
    "functors = [K.function([inp], [out]) for out in outputs]    # evaluation functions\n",
    "\n",
    "# Testing\n",
    "test = np.random.random(784)[np.newaxis,...]\n",
    "layer_outs = [func([test]) for func in functors]\n",
    "print(layer_outs[0])"
   ]
  },
  {
   "cell_type": "code",
   "execution_count": 26,
   "metadata": {},
   "outputs": [],
   "source": [
    "from ipywidgets import interact_manual"
   ]
  },
  {
   "cell_type": "code",
   "execution_count": 27,
   "metadata": {},
   "outputs": [],
   "source": [
    "def FULL_CONNECT_NEURAL_NETWORK (num):\n",
    "    plt.imshow(x_test[num].reshape(28,28) , cmap = \"Greys\")\n",
    "    print(\"神經網路預測結果為 :\" , predicts[num] )"
   ]
  },
  {
   "cell_type": "code",
   "execution_count": 28,
   "metadata": {},
   "outputs": [
    {
     "data": {
      "application/vnd.jupyter.widget-view+json": {
       "model_id": "5ae34d9a14c14b67b10b3114eb9764ae",
       "version_major": 2,
       "version_minor": 0
      },
      "text/plain": [
       "interactive(children=(IntSlider(value=4999, description='num', max=9999), Button(description='Run Interact', s…"
      ]
     },
     "metadata": {},
     "output_type": "display_data"
    },
    {
     "data": {
      "text/plain": [
       "<function __main__.FULL_CONNECT_NEURAL_NETWORK(num)>"
      ]
     },
     "execution_count": 28,
     "metadata": {},
     "output_type": "execute_result"
    }
   ],
   "source": [
    "interact_manual(FULL_CONNECT_NEURAL_NETWORK , num = (0 , 9999))"
   ]
  },
  {
   "cell_type": "code",
   "execution_count": 29,
   "metadata": {},
   "outputs": [],
   "source": [
    "model_json = model.to_json()\n",
    "open(\"handwriting_model.json\" , \"w\" ).write(model_json)\n",
    "model.save_weights(\"handwriting_model_weights.h5\")"
   ]
  },
  {
   "cell_type": "code",
   "execution_count": null,
   "metadata": {},
   "outputs": [],
   "source": []
  }
 ],
 "metadata": {
  "kernelspec": {
   "display_name": "Python 3",
   "language": "python",
   "name": "python3"
  },
  "language_info": {
   "codemirror_mode": {
    "name": "ipython",
    "version": 3
   },
   "file_extension": ".py",
   "mimetype": "text/x-python",
   "name": "python",
   "nbconvert_exporter": "python",
   "pygments_lexer": "ipython3",
   "version": "3.7.1"
  }
 },
 "nbformat": 4,
 "nbformat_minor": 2
}
